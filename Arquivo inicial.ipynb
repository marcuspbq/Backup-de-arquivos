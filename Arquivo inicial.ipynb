{
 "cells": [
  {
   "cell_type": "code",
   "execution_count": 34,
   "id": "801af360",
   "metadata": {},
   "outputs": [],
   "source": [
    "# Projeto para mover arquivos para pastas específicas, filtrando por parte do nome do arquivo"
   ]
  },
  {
   "cell_type": "code",
   "execution_count": 61,
   "id": "089fc15e",
   "metadata": {},
   "outputs": [],
   "source": [
    "import os # Importando biblioteca responsável por manipular arquivos\n",
    "\n",
    "import time\n",
    "\n",
    "import shutil"
   ]
  },
  {
   "cell_type": "code",
   "execution_count": 62,
   "id": "b814fe7e",
   "metadata": {},
   "outputs": [
    {
     "data": {
      "text/plain": [
       "['Feb2022',\n",
       " 'Fev',\n",
       " 'Jan',\n",
       " 'Mar',\n",
       " 'Vendas-Fev2019-2.xlsx',\n",
       " 'Vendas-Fev2019-3.xlsx',\n",
       " 'Vendas-Fev2019-4.xlsx',\n",
       " 'Vendas-Fev2019.xlsx',\n",
       " 'Vendas-Jan-2019-2.xlsx',\n",
       " 'Vendas-Jan-2019-3.xlsx',\n",
       " 'Vendas-Jan-2019-4.xlsx',\n",
       " 'Vendas-Jan-2019.xlsx',\n",
       " 'Vendas-Mar2019-2.xlsx',\n",
       " 'Vendas-Mar2019-3.xlsx',\n",
       " 'Vendas-Mar2019-4.xlsx',\n",
       " 'Vendas-Mar2019.xlsx']"
      ]
     },
     "metadata": {},
     "output_type": "display_data"
    }
   ],
   "source": [
    "# Passo 1 -  Criar a lista de arquivos e subpastas do diretório\n",
    "\n",
    "caminho = r\"C:\\Users\\marcu\\OneDrive\\Desenv\\Python\\Automação\\Projeto organizador de arquivos exemplo\\mover\" # Declarando variável para informar a localização da pasta - Caso seja na mesma pasta do projeto, não precisa\n",
    "\n",
    "lista_arquivos = os.listdir(caminho) # Lista os arquivos da pasta e coloca na variável (list)\n",
    "\n",
    "display (lista_arquivos)\n"
   ]
  },
  {
   "cell_type": "code",
   "execution_count": 63,
   "id": "dbfab9bc",
   "metadata": {},
   "outputs": [],
   "source": [
    "#ti_m = os.path.getmtime(caminho) # pega a data e hora de modificação sem formatação    \n",
    "#data_completa = time.ctime(ti_m) # Formata data de modificação\n",
    "# data_completa_lista = (data_completa.split())"
   ]
  },
  {
   "cell_type": "code",
   "execution_count": 64,
   "id": "5bf59ccc",
   "metadata": {},
   "outputs": [],
   "source": [
    "# print(data_completa_lista)"
   ]
  },
  {
   "cell_type": "code",
   "execution_count": 65,
   "id": "bea1535a",
   "metadata": {},
   "outputs": [],
   "source": [
    "# mes_ano = data_completa_lista[1] + data_completa_lista[4]"
   ]
  },
  {
   "cell_type": "code",
   "execution_count": 66,
   "id": "b0d42639",
   "metadata": {},
   "outputs": [],
   "source": [
    "# print(mes_ano)"
   ]
  },
  {
   "cell_type": "code",
   "execution_count": null,
   "id": "87b220e3",
   "metadata": {},
   "outputs": [],
   "source": []
  },
  {
   "cell_type": "code",
   "execution_count": 68,
   "id": "7d4d03e4",
   "metadata": {},
   "outputs": [
    {
     "name": "stdout",
     "output_type": "stream",
     "text": [
      "C:\\Users\\marcu\\OneDrive\\Desenv\\Python\\Automação\\Projeto organizador de arquivos exemplo\\mover\n"
     ]
    }
   ],
   "source": [
    "print(caminho)"
   ]
  },
  {
   "cell_type": "code",
   "execution_count": 72,
   "id": "e9382fdb",
   "metadata": {},
   "outputs": [],
   "source": [
    "# Passo 2 - Para cada arquivo na pasta, criar uma subpasta em que o nome será o mês + o ano de criação do arquivo, caso já exista, não substituir\n",
    "\n",
    "for arquivo in lista_arquivos: # Faz um for já declarando a variável arquivo que assume cada item da lista\n",
    "    ti_m = os.path.getmtime(caminho) # pega a data e hora de modificação sem formatação    \n",
    "    data_completa = time.ctime(ti_m) # Formata data de modificação\n",
    "    data_completa_lista = (data_completa.split()) # separa os dados da váriável data_completa em uma lista\n",
    "    mes_ano = data_completa_lista[1] + data_completa_lista[4] # Seleciona apenas o mês e o ano da lista\n",
    "    nome_pasta = mes_ano # Atribui o mês e ano na variável nome_pasta\n",
    "    \n",
    "    if os.path.isdir(caminho + nome_pasta): # vemos de este diretorio ja existe\n",
    "        caminho_completo = caminho + nome_pasta\n",
    "        # os.rename({arquivo}, (nome_pasta/{arquivo}))\n",
    "        # print ('Ja existe uma pasta com esse nome, arquivo movido')\n",
    "    # else:\n",
    "        #os.mkdir(caminho + nome_pasta) # aqui criamos a pasta caso nao exista\n",
    "        #os.rename({arquivo}, (nome_pasta/{arquivo}))\n",
    "        #print ('Pasta criada e arquivo movido com sucesso!')\n",
    "        \n",
    "    \n",
    "    # if os.path.isdir(caminho + nome_pasta): # Verifica se a pasta já existe\n",
    "    #   os.rename(caminho/{arquivo}, caminho/nome_pasta/{arquivo})\n",
    "   \n",
    "\n",
    "        # shutil.move(\"\\mover\" + nome_pasta)\n",
    "    #else:\n",
    "        #parent_dir = caminho + \"\\mover\"\n",
    "        #path = os.path.join(parent_dir, nome_pasta)\n",
    "        #os.mkdir(path)\n"
   ]
  },
  {
   "cell_type": "code",
   "execution_count": 73,
   "id": "fabd9f43",
   "metadata": {},
   "outputs": [
    {
     "name": "stdout",
     "output_type": "stream",
     "text": [
      "C:\\Users\\marcu\\OneDrive\\Desenv\\Python\\Automação\\Projeto organizador de arquivos exemplo\\moverFeb2022\n"
     ]
    }
   ],
   "source": [
    "print(caminho + nome_pasta)"
   ]
  },
  {
   "cell_type": "code",
   "execution_count": 16,
   "id": "8432ffab",
   "metadata": {},
   "outputs": [
    {
     "data": {
      "text/plain": [
       "['Fev',\n",
       " 'Jan',\n",
       " 'Mar',\n",
       " 'Vendas-Fev2019-2.xlsx',\n",
       " 'Vendas-Fev2019-3.xlsx',\n",
       " 'Vendas-Fev2019-4.xlsx',\n",
       " 'Vendas-Fev2019.xlsx',\n",
       " 'Vendas-Jan-2019-2.xlsx',\n",
       " 'Vendas-Jan-2019-3.xlsx',\n",
       " 'Vendas-Jan-2019-4.xlsx',\n",
       " 'Vendas-Jan-2019.xlsx',\n",
       " 'Vendas-Mar2019-2.xlsx',\n",
       " 'Vendas-Mar2019-3.xlsx',\n",
       " 'Vendas-Mar2019-4.xlsx',\n",
       " 'Vendas-Mar2019.xlsx']"
      ]
     },
     "metadata": {},
     "output_type": "display_data"
    }
   ],
   "source": [
    "display(lista_arquivos)"
   ]
  },
  {
   "cell_type": "code",
   "execution_count": null,
   "id": "a4af4af7",
   "metadata": {},
   "outputs": [],
   "source": [
    "# Passo 3 - Mover cada arquivo de acordo com a data de criação apara a pasta que foi criada correspondente"
   ]
  },
  {
   "cell_type": "code",
   "execution_count": null,
   "id": "07228163",
   "metadata": {},
   "outputs": [],
   "source": [
    "# Anotações:\n",
    "# os.mkdir() and os.makedirs() - Dois comandos para criar diretórios"
   ]
  }
 ],
 "metadata": {
  "kernelspec": {
   "display_name": "Python 3 (ipykernel)",
   "language": "python",
   "name": "python3"
  },
  "language_info": {
   "codemirror_mode": {
    "name": "ipython",
    "version": 3
   },
   "file_extension": ".py",
   "mimetype": "text/x-python",
   "name": "python",
   "nbconvert_exporter": "python",
   "pygments_lexer": "ipython3",
   "version": "3.9.7"
  }
 },
 "nbformat": 4,
 "nbformat_minor": 5
}
