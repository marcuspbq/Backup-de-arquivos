{
 "cells": [
  {
   "cell_type": "markdown",
   "id": "dc4f7b04",
   "metadata": {},
   "source": [
    "# Projeto para mover arquivos para pastas específicas com nome mês/ano (criando se não existir), filtrando pela data de modificação"
   ]
  },
  {
   "cell_type": "code",
   "execution_count": 7,
   "id": "042a3eb7",
   "metadata": {},
   "outputs": [],
   "source": [
    "# 1 - Importando biblioteca responsável por manipular arquivos:"
   ]
  },
  {
   "cell_type": "code",
   "execution_count": 8,
   "id": "089fc15e",
   "metadata": {},
   "outputs": [],
   "source": [
    "import os\n",
    "import time\n",
    "import shutil"
   ]
  },
  {
   "cell_type": "code",
   "execution_count": 9,
   "id": "c1e9b8a0",
   "metadata": {},
   "outputs": [],
   "source": [
    "# 2 - Declarando variáveis:"
   ]
  },
  {
   "cell_type": "code",
   "execution_count": 10,
   "id": "b814fe7e",
   "metadata": {},
   "outputs": [],
   "source": [
    "caminho = r\"C:\\Users\\marcu\\OneDrive\\Desenv\\Python\\Automação\\PA1\\mover\" + \"\\\\\" # Declarando variável para informar a localização da pasta - Caso seja na mesma pasta do projeto, não precisa\n",
    "\n",
    "lista_arquivos = os.listdir(caminho) # Lista os arquivos da pasta e coloca na variável (list)"
   ]
  },
  {
   "cell_type": "code",
   "execution_count": 11,
   "id": "ee42149b",
   "metadata": {},
   "outputs": [],
   "source": [
    "# 2 - Criando pasta para cada mês/ano e armazenando o arquivo correspondente dentro dela"
   ]
  },
  {
   "cell_type": "code",
   "execution_count": 12,
   "id": "e9382fdb",
   "metadata": {},
   "outputs": [],
   "source": [
    "for arquivo in lista_arquivos: # Faz um for já declarando a variável arquivo que assume cada item da lista\n",
    "    data_modifica = os.path.getmtime(caminho + arquivo) # pega a data e hora de criação sem formatação    \n",
    "    data_completa = time.ctime(data_modifica) # Formata data de modificação\n",
    "    data_completa_lista = (data_completa.split()) # separa os dados da váriável data_completa em uma lista\n",
    "    mes_ano = data_completa_lista[1] + data_completa_lista[4] # Seleciona apenas o mês e o ano da lista\n",
    "    nome_pasta = mes_ano # Atribui o mês e ano na variável nome_pasta\n",
    "    \n",
    "    if not(os.path.isdir(caminho + nome_pasta)): # vemos se este diretorio ja existe\n",
    "        os.mkdir(caminho + nome_pasta) # aqui criamos a pasta caso nao exista\n",
    "    os.rename(caminho+\"\\\\\"+arquivo, (caminho + nome_pasta+\"\\\\\"+arquivo))\n"
   ]
  },
  {
   "cell_type": "code",
   "execution_count": null,
   "id": "59c1d9ab",
   "metadata": {},
   "outputs": [],
   "source": []
  }
 ],
 "metadata": {
  "kernelspec": {
   "display_name": "Python 3 (ipykernel)",
   "language": "python",
   "name": "python3"
  },
  "language_info": {
   "codemirror_mode": {
    "name": "ipython",
    "version": 3
   },
   "file_extension": ".py",
   "mimetype": "text/x-python",
   "name": "python",
   "nbconvert_exporter": "python",
   "pygments_lexer": "ipython3",
   "version": "3.9.7"
  }
 },
 "nbformat": 4,
 "nbformat_minor": 5
}
